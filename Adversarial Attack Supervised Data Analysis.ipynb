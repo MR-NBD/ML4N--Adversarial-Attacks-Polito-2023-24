{
 "cells": [
  {
   "cell_type": "code",
   "execution_count": 2,
   "id": "b5ae367e",
   "metadata": {
    "_cell_guid": "b1076dfc-b9ad-4769-8c92-a6c4dae69d19",
    "_uuid": "8f2839f25d086af736a60e9eeb907d3b93b6e0e5",
    "execution": {
     "iopub.execute_input": "2022-05-22T09:27:47.172971Z",
     "iopub.status.busy": "2022-05-22T09:27:47.172411Z",
     "iopub.status.idle": "2022-05-22T09:27:49.684257Z",
     "shell.execute_reply": "2022-05-22T09:27:49.683123Z"
    },
    "papermill": {
     "duration": 2.547334,
     "end_time": "2022-05-22T09:27:49.687467",
     "exception": false,
     "start_time": "2022-05-22T09:27:47.140133",
     "status": "completed"
    },
    "tags": []
   },
   "outputs": [],
   "source": [
    "import numpy as np \n",
    "import pandas as pd \n",
    "import matplotlib.pyplot as plt\n",
    "import seaborn as sns\n",
    "import statsmodels.api as sm\n",
    "from imblearn.over_sampling import SMOTE\n",
    "from sklearn.preprocessing import MinMaxScaler\n",
    "from sklearn.decomposition import PCA\n",
    "from math import floor\n",
    "from sklearn.model_selection import train_test_split\n",
    "from sklearn.ensemble import RandomForestClassifier\n",
    "from sklearn.tree import DecisionTreeClassifier\n",
    "from sklearn.neighbors import KNeighborsClassifier\n",
    "from sklearn.ensemble import GradientBoostingClassifier\n",
    "from sklearn.svm import SVC\n",
    "from xgboost import XGBClassifier\n",
    "from sklearn.naive_bayes import GaussianNB\n",
    "from sklearn.metrics import confusion_matrix, classification_report\n",
    "from sklearn.metrics import precision_score,recall_score\n",
    "from sklearn.metrics import f1_score, accuracy_score\n",
    "from sklearn.metrics import roc_curve, roc_auc_score\n",
    "\n",
    "# matplotlib defaults\n",
    "plt.style.use(\"fivethirtyeight\")\n",
    "plt.rc(\"figure\", autolayout=True)\n",
    "plt.rc(\n",
    "    \"axes\",\n",
    "    labelweight=\"bold\",\n",
    "    labelsize=\"large\",\n",
    "    titleweight=\"bold\",\n",
    "    titlesize=14,\n",
    "    titlepad=10,\n",
    ")\n",
    "\n",
    "import warnings\n",
    "warnings.filterwarnings('ignore')\n"
   ]
  },
  {
   "cell_type": "code",
   "execution_count": 3,
   "id": "03aeb462",
   "metadata": {
    "execution": {
     "iopub.execute_input": "2022-05-22T09:27:49.750119Z",
     "iopub.status.busy": "2022-05-22T09:27:49.749588Z",
     "iopub.status.idle": "2022-05-22T09:27:49.789102Z",
     "shell.execute_reply": "2022-05-22T09:27:49.788243Z"
    },
    "papermill": {
     "duration": 0.071732,
     "end_time": "2022-05-22T09:27:49.791326",
     "exception": false,
     "start_time": "2022-05-22T09:27:49.719594",
     "status": "completed"
    },
    "tags": []
   },
   "outputs": [
    {
     "data": {
      "text/html": [
       "<div>\n",
       "<style scoped>\n",
       "    .dataframe tbody tr th:only-of-type {\n",
       "        vertical-align: middle;\n",
       "    }\n",
       "\n",
       "    .dataframe tbody tr th {\n",
       "        vertical-align: top;\n",
       "    }\n",
       "\n",
       "    .dataframe thead th {\n",
       "        text-align: right;\n",
       "    }\n",
       "</style>\n",
       "<table border=\"1\" class=\"dataframe\">\n",
       "  <thead>\n",
       "    <tr style=\"text-align: right;\">\n",
       "      <th></th>\n",
       "      <th>Status_account</th>\n",
       "      <th>Duration</th>\n",
       "      <th>Credit_history</th>\n",
       "      <th>Purpose</th>\n",
       "      <th>Credit_amount</th>\n",
       "      <th>Savings_account_bonds</th>\n",
       "      <th>Employment_since</th>\n",
       "      <th>Install_rate</th>\n",
       "      <th>Personal_status_sex</th>\n",
       "      <th>debtors_guarantors</th>\n",
       "      <th>...</th>\n",
       "      <th>Property</th>\n",
       "      <th>Age</th>\n",
       "      <th>Other_install_plans</th>\n",
       "      <th>Housing</th>\n",
       "      <th>No_credits</th>\n",
       "      <th>Job</th>\n",
       "      <th>No_people_liable</th>\n",
       "      <th>Telephone</th>\n",
       "      <th>foreign_worker</th>\n",
       "      <th>good_bad</th>\n",
       "    </tr>\n",
       "  </thead>\n",
       "  <tbody>\n",
       "    <tr>\n",
       "      <th>0</th>\n",
       "      <td>A11</td>\n",
       "      <td>6</td>\n",
       "      <td>A34</td>\n",
       "      <td>A43</td>\n",
       "      <td>1169</td>\n",
       "      <td>A65</td>\n",
       "      <td>A75</td>\n",
       "      <td>4</td>\n",
       "      <td>A93</td>\n",
       "      <td>A101</td>\n",
       "      <td>...</td>\n",
       "      <td>A121</td>\n",
       "      <td>67</td>\n",
       "      <td>A143</td>\n",
       "      <td>A152</td>\n",
       "      <td>2</td>\n",
       "      <td>A173</td>\n",
       "      <td>1</td>\n",
       "      <td>A192</td>\n",
       "      <td>A201</td>\n",
       "      <td>1</td>\n",
       "    </tr>\n",
       "    <tr>\n",
       "      <th>1</th>\n",
       "      <td>A12</td>\n",
       "      <td>48</td>\n",
       "      <td>A32</td>\n",
       "      <td>A43</td>\n",
       "      <td>5951</td>\n",
       "      <td>A61</td>\n",
       "      <td>A73</td>\n",
       "      <td>2</td>\n",
       "      <td>A92</td>\n",
       "      <td>A101</td>\n",
       "      <td>...</td>\n",
       "      <td>A121</td>\n",
       "      <td>22</td>\n",
       "      <td>A143</td>\n",
       "      <td>A152</td>\n",
       "      <td>1</td>\n",
       "      <td>A173</td>\n",
       "      <td>1</td>\n",
       "      <td>A191</td>\n",
       "      <td>A201</td>\n",
       "      <td>0</td>\n",
       "    </tr>\n",
       "    <tr>\n",
       "      <th>2</th>\n",
       "      <td>A14</td>\n",
       "      <td>12</td>\n",
       "      <td>A34</td>\n",
       "      <td>A46</td>\n",
       "      <td>2096</td>\n",
       "      <td>A61</td>\n",
       "      <td>A74</td>\n",
       "      <td>2</td>\n",
       "      <td>A93</td>\n",
       "      <td>A101</td>\n",
       "      <td>...</td>\n",
       "      <td>A121</td>\n",
       "      <td>49</td>\n",
       "      <td>A143</td>\n",
       "      <td>A152</td>\n",
       "      <td>1</td>\n",
       "      <td>A172</td>\n",
       "      <td>2</td>\n",
       "      <td>A191</td>\n",
       "      <td>A201</td>\n",
       "      <td>1</td>\n",
       "    </tr>\n",
       "    <tr>\n",
       "      <th>3</th>\n",
       "      <td>A11</td>\n",
       "      <td>42</td>\n",
       "      <td>A32</td>\n",
       "      <td>A42</td>\n",
       "      <td>7882</td>\n",
       "      <td>A61</td>\n",
       "      <td>A74</td>\n",
       "      <td>2</td>\n",
       "      <td>A93</td>\n",
       "      <td>A103</td>\n",
       "      <td>...</td>\n",
       "      <td>A122</td>\n",
       "      <td>45</td>\n",
       "      <td>A143</td>\n",
       "      <td>A153</td>\n",
       "      <td>1</td>\n",
       "      <td>A173</td>\n",
       "      <td>2</td>\n",
       "      <td>A191</td>\n",
       "      <td>A201</td>\n",
       "      <td>1</td>\n",
       "    </tr>\n",
       "    <tr>\n",
       "      <th>4</th>\n",
       "      <td>A11</td>\n",
       "      <td>24</td>\n",
       "      <td>A33</td>\n",
       "      <td>A40</td>\n",
       "      <td>4870</td>\n",
       "      <td>A61</td>\n",
       "      <td>A73</td>\n",
       "      <td>3</td>\n",
       "      <td>A93</td>\n",
       "      <td>A101</td>\n",
       "      <td>...</td>\n",
       "      <td>A124</td>\n",
       "      <td>53</td>\n",
       "      <td>A143</td>\n",
       "      <td>A153</td>\n",
       "      <td>2</td>\n",
       "      <td>A173</td>\n",
       "      <td>2</td>\n",
       "      <td>A191</td>\n",
       "      <td>A201</td>\n",
       "      <td>0</td>\n",
       "    </tr>\n",
       "  </tbody>\n",
       "</table>\n",
       "<p>5 rows × 21 columns</p>\n",
       "</div>"
      ],
      "text/plain": [
       "  Status_account  Duration Credit_history Purpose  Credit_amount  \\\n",
       "0            A11         6            A34     A43           1169   \n",
       "1            A12        48            A32     A43           5951   \n",
       "2            A14        12            A34     A46           2096   \n",
       "3            A11        42            A32     A42           7882   \n",
       "4            A11        24            A33     A40           4870   \n",
       "\n",
       "  Savings_account_bonds Employment_since  Install_rate Personal_status_sex  \\\n",
       "0                   A65              A75             4                 A93   \n",
       "1                   A61              A73             2                 A92   \n",
       "2                   A61              A74             2                 A93   \n",
       "3                   A61              A74             2                 A93   \n",
       "4                   A61              A73             3                 A93   \n",
       "\n",
       "  debtors_guarantors  ...  Property Age  Other_install_plans Housing  \\\n",
       "0               A101  ...      A121  67                 A143    A152   \n",
       "1               A101  ...      A121  22                 A143    A152   \n",
       "2               A101  ...      A121  49                 A143    A152   \n",
       "3               A103  ...      A122  45                 A143    A153   \n",
       "4               A101  ...      A124  53                 A143    A153   \n",
       "\n",
       "  No_credits   Job No_people_liable  Telephone foreign_worker good_bad  \n",
       "0          2  A173                1       A192           A201        1  \n",
       "1          1  A173                1       A191           A201        0  \n",
       "2          1  A172                2       A191           A201        1  \n",
       "3          1  A173                2       A191           A201        1  \n",
       "4          2  A173                2       A191           A201        0  \n",
       "\n",
       "[5 rows x 21 columns]"
      ]
     },
     "execution_count": 3,
     "metadata": {},
     "output_type": "execute_result"
    }
   ],
   "source": [
    "#### List of Attributes for dataset acquired from german.doc\n",
    "#### good/bad is the label 1 means good customer while 2 means bad\n",
    "attributes = [\"Status_account\", \"Duration\", \"Credit_history\",\"Purpose\",\n",
    "             \"Credit_amount\",\"Savings_account_bonds\",\"Employment_since\",\"Install_rate\",\n",
    "              \"Personal_status_sex\",\"debtors_guarantors\",\"Present_residence_since\",\n",
    "              \"Property\",\"Age\",\"Other_install_plans\",\"Housing\",\"No_credits\",\"Job\",\n",
    "              \"No_people_liable\",\"Telephone\",\"foreign_worker\",\"good_bad\"] \n",
    "\n",
    "#### Acquiring dataset from german.data file\n",
    "df = pd.read_csv(\"statlog+german+credit+data/german.data\", sep=' ', names = attributes)\n",
    "\n",
    "#### Setting bad to 0 and good to 1\n",
    "mask_bad = df['good_bad'] == 2\n",
    "df[\"good_bad\"] = np.where(mask_bad, 0, 1)\n",
    "df.head()"
   ]
  },
  {
   "cell_type": "markdown",
   "id": "619b26ef",
   "metadata": {
    "papermill": {
     "duration": 0.03638,
     "end_time": "2022-05-22T09:27:51.692545",
     "exception": false,
     "start_time": "2022-05-22T09:27:51.656165",
     "status": "completed"
    },
    "tags": []
   },
   "source": [
    "**> WORKFLOW**\n",
    "\n",
    "1. count plots by cat and num_but_cat col\n",
    "2. point plot by cat and num_Cat with status cols\n",
    "3. box plot by status vs num col\n",
    "4. ouliers detection\n",
    "5. correlation matrix\n",
    "6. scaling data\n",
    "\n",
    "> model building:\n",
    "\n",
    "1. logistic regression\n",
    "2. SVM\n",
    "3. k-NN\n",
    "4. Naive bayes\n",
    "5. RF XGB"
   ]
  },
  {
   "cell_type": "code",
   "execution_count": 4,
   "id": "79654e1d",
   "metadata": {
    "execution": {
     "iopub.execute_input": "2022-05-22T09:27:51.767143Z",
     "iopub.status.busy": "2022-05-22T09:27:51.766628Z",
     "iopub.status.idle": "2022-05-22T09:27:51.771975Z",
     "shell.execute_reply": "2022-05-22T09:27:51.771325Z"
    },
    "papermill": {
     "duration": 0.045061,
     "end_time": "2022-05-22T09:27:51.773866",
     "exception": false,
     "start_time": "2022-05-22T09:27:51.728805",
     "status": "completed"
    },
    "tags": []
   },
   "outputs": [],
   "source": [
    "# count plots by cat and num but cat col\n",
    "\n",
    "def count_plot(var):\n",
    "    #printing values of variable\n",
    "    new = df[var].value_counts()\n",
    "    \n",
    "    plt.figure(figsize=(8,5))\n",
    "    sns.countplot(x=var, \n",
    "                  data=df)\n",
    "    plt.grid(visible=True, \n",
    "                 color='wheat', \n",
    "                 linestyle='--')\n",
    "    plt.title(var)\n",
    "    plt.show()\n",
    "    print(\"{}:\\n{}\".format(var,new))"
   ]
  },
  {
   "cell_type": "markdown",
   "id": "e23513c2",
   "metadata": {
    "papermill": {
     "duration": 0.066338,
     "end_time": "2022-05-22T09:27:58.522727",
     "exception": false,
     "start_time": "2022-05-22T09:27:58.456389",
     "status": "completed"
    },
    "tags": []
   },
   "source": [
    "# Baseline Logistic regression model"
   ]
  },
  {
   "cell_type": "code",
   "execution_count": 5,
   "id": "b715d6a8",
   "metadata": {
    "execution": {
     "iopub.execute_input": "2022-05-22T09:27:58.659221Z",
     "iopub.status.busy": "2022-05-22T09:27:58.658981Z",
     "iopub.status.idle": "2022-05-22T09:27:58.683532Z",
     "shell.execute_reply": "2022-05-22T09:27:58.682511Z"
    },
    "papermill": {
     "duration": 0.094178,
     "end_time": "2022-05-22T09:27:58.685668",
     "exception": false,
     "start_time": "2022-05-22T09:27:58.591490",
     "status": "completed"
    },
    "tags": []
   },
   "outputs": [
    {
     "data": {
      "text/plain": [
       "((800, 61), (200, 61), (800,), (200,))"
      ]
     },
     "execution_count": 5,
     "metadata": {},
     "output_type": "execute_result"
    }
   ],
   "source": [
    "#### Qualitative attributes that do not require encoding \n",
    "to_remove = [\"Duration\",\"Credit_amount\",\"Install_rate\",\"Present_residence_since\",\n",
    "             \"Age\",\"No_credits\",\"No_people_liable\",\"good_bad\"] \n",
    "\n",
    "#### Creating the list with the categorical attributes to be encoded\n",
    "to_be_encoded = attributes.copy()\n",
    "for el in to_remove:\n",
    "    to_be_encoded.remove(el)\n",
    "\n",
    "\n",
    "#### Using One Hot Encoding to transform categorical attributes into qualitative ones\n",
    "df_encoded = pd.get_dummies(df, columns=to_be_encoded, dtype = int)\n",
    "# display(df_encoded)\n",
    "\n",
    "\n",
    "#### Normalization between [0,1] and split into 80% training and 20% test \n",
    "scaler = MinMaxScaler()\n",
    "\n",
    "#### Creation of the pandas dataframe of the normalized values\n",
    "array_df_encoded = scaler.fit_transform(df_encoded)\n",
    "df_normalized = pd.DataFrame(array_df_encoded, columns=df_encoded.columns)\n",
    "df_normalized2 = df_normalized.copy()\n",
    "df_normalized_no_label = df_normalized.drop(columns=\"good_bad\")\n",
    "\n",
    "\n",
    "###\n",
    "\n",
    "#### Splitting the data into sets \n",
    "columns_no_label = df_normalized_no_label.columns\n",
    "X, X_test, y, y_test = train_test_split(\n",
    "    df_normalized_no_label[columns_no_label], # X\n",
    "    df_normalized['good_bad'], # y\n",
    "    stratify = df_normalized['good_bad'], # stratify the dataset based on class labels\n",
    "    train_size = 0.8, # percentage of training set\n",
    "    random_state = 50 \n",
    ")\n",
    "X.shape, X_test.shape, y.shape, y_test.shape"
   ]
  },
  {
   "cell_type": "markdown",
   "id": "889ac4b5",
   "metadata": {},
   "source": [
    "#### 2.1.1 PCA\n",
    "---"
   ]
  },
  {
   "cell_type": "code",
   "execution_count": 6,
   "id": "ffbe7a2b",
   "metadata": {},
   "outputs": [],
   "source": [
    "#### I choose 47 components because I'll be able to describe 100% of the dataset\n",
    "pca = PCA(n_components = 30)\n",
    "pca.fit(X)\n",
    "\n",
    "X_PCA = pca.transform(X)\n",
    "X_test_PCA = pca.transform(X_test)"
   ]
  },
  {
   "cell_type": "code",
   "execution_count": 7,
   "id": "fccd590f",
   "metadata": {
    "execution": {
     "iopub.execute_input": "2022-05-22T09:27:58.820119Z",
     "iopub.status.busy": "2022-05-22T09:27:58.819831Z",
     "iopub.status.idle": "2022-05-22T09:27:58.865017Z",
     "shell.execute_reply": "2022-05-22T09:27:58.862772Z"
    },
    "papermill": {
     "duration": 0.115896,
     "end_time": "2022-05-22T09:27:58.868548",
     "exception": false,
     "start_time": "2022-05-22T09:27:58.752652",
     "status": "completed"
    },
    "tags": []
   },
   "outputs": [
    {
     "name": "stdout",
     "output_type": "stream",
     "text": [
      "Warning: Maximum number of iterations has been exceeded.\n",
      "         Current function value: 0.440451\n",
      "         Iterations: 35\n"
     ]
    }
   ],
   "source": [
    "# builing logit model using statsmodels api\n",
    "logit = sm.Logit(y, X)\n",
    "logit_model = logit.fit()"
   ]
  },
  {
   "cell_type": "code",
   "execution_count": 8,
   "id": "693a2a19",
   "metadata": {
    "execution": {
     "iopub.execute_input": "2022-05-22T09:27:59.441284Z",
     "iopub.status.busy": "2022-05-22T09:27:59.440992Z",
     "iopub.status.idle": "2022-05-22T09:27:59.453662Z",
     "shell.execute_reply": "2022-05-22T09:27:59.452992Z"
    },
    "papermill": {
     "duration": 0.080972,
     "end_time": "2022-05-22T09:27:59.455557",
     "exception": false,
     "start_time": "2022-05-22T09:27:59.374585",
     "status": "completed"
    },
    "tags": []
   },
   "outputs": [
    {
     "data": {
      "text/html": [
       "<div>\n",
       "<style scoped>\n",
       "    .dataframe tbody tr th:only-of-type {\n",
       "        vertical-align: middle;\n",
       "    }\n",
       "\n",
       "    .dataframe tbody tr th {\n",
       "        vertical-align: top;\n",
       "    }\n",
       "\n",
       "    .dataframe thead th {\n",
       "        text-align: right;\n",
       "    }\n",
       "</style>\n",
       "<table border=\"1\" class=\"dataframe\">\n",
       "  <thead>\n",
       "    <tr style=\"text-align: right;\">\n",
       "      <th></th>\n",
       "      <th>index</th>\n",
       "      <th>0</th>\n",
       "    </tr>\n",
       "  </thead>\n",
       "  <tbody>\n",
       "    <tr>\n",
       "      <th>0</th>\n",
       "      <td>Duration</td>\n",
       "      <td>0.007930</td>\n",
       "    </tr>\n",
       "    <tr>\n",
       "      <th>1</th>\n",
       "      <td>Credit_amount</td>\n",
       "      <td>0.016720</td>\n",
       "    </tr>\n",
       "    <tr>\n",
       "      <th>2</th>\n",
       "      <td>Install_rate</td>\n",
       "      <td>0.000376</td>\n",
       "    </tr>\n",
       "  </tbody>\n",
       "</table>\n",
       "</div>"
      ],
      "text/plain": [
       "           index         0\n",
       "0       Duration  0.007930\n",
       "1  Credit_amount  0.016720\n",
       "2   Install_rate  0.000376"
      ]
     },
     "execution_count": 8,
     "metadata": {},
     "output_type": "execute_result"
    }
   ],
   "source": [
    "# significant features\n",
    "significant_fea = pd.DataFrame(logit_model.pvalues)\n",
    "significant_fea[significant_fea[0] < 0.05].reset_index()"
   ]
  },
  {
   "cell_type": "code",
   "execution_count": 9,
   "id": "8b58db54",
   "metadata": {
    "execution": {
     "iopub.execute_input": "2022-05-22T09:27:59.596514Z",
     "iopub.status.busy": "2022-05-22T09:27:59.595650Z",
     "iopub.status.idle": "2022-05-22T09:27:59.610983Z",
     "shell.execute_reply": "2022-05-22T09:27:59.610021Z"
    },
    "papermill": {
     "duration": 0.088629,
     "end_time": "2022-05-22T09:27:59.613132",
     "exception": false,
     "start_time": "2022-05-22T09:27:59.524503",
     "status": "completed"
    },
    "tags": []
   },
   "outputs": [
    {
     "data": {
      "text/html": [
       "<div>\n",
       "<style scoped>\n",
       "    .dataframe tbody tr th:only-of-type {\n",
       "        vertical-align: middle;\n",
       "    }\n",
       "\n",
       "    .dataframe tbody tr th {\n",
       "        vertical-align: top;\n",
       "    }\n",
       "\n",
       "    .dataframe thead th {\n",
       "        text-align: right;\n",
       "    }\n",
       "</style>\n",
       "<table border=\"1\" class=\"dataframe\">\n",
       "  <thead>\n",
       "    <tr style=\"text-align: right;\">\n",
       "      <th></th>\n",
       "      <th>actual</th>\n",
       "      <th>Predicted_prob</th>\n",
       "      <th>Predicted</th>\n",
       "    </tr>\n",
       "  </thead>\n",
       "  <tbody>\n",
       "    <tr>\n",
       "      <th>159</th>\n",
       "      <td>1.0</td>\n",
       "      <td>0.994615</td>\n",
       "      <td>1</td>\n",
       "    </tr>\n",
       "    <tr>\n",
       "      <th>276</th>\n",
       "      <td>1.0</td>\n",
       "      <td>0.937829</td>\n",
       "      <td>1</td>\n",
       "    </tr>\n",
       "    <tr>\n",
       "      <th>697</th>\n",
       "      <td>1.0</td>\n",
       "      <td>0.963429</td>\n",
       "      <td>1</td>\n",
       "    </tr>\n",
       "    <tr>\n",
       "      <th>288</th>\n",
       "      <td>1.0</td>\n",
       "      <td>0.809617</td>\n",
       "      <td>1</td>\n",
       "    </tr>\n",
       "    <tr>\n",
       "      <th>98</th>\n",
       "      <td>1.0</td>\n",
       "      <td>0.731812</td>\n",
       "      <td>1</td>\n",
       "    </tr>\n",
       "    <tr>\n",
       "      <th>...</th>\n",
       "      <td>...</td>\n",
       "      <td>...</td>\n",
       "      <td>...</td>\n",
       "    </tr>\n",
       "    <tr>\n",
       "      <th>198</th>\n",
       "      <td>1.0</td>\n",
       "      <td>0.777029</td>\n",
       "      <td>1</td>\n",
       "    </tr>\n",
       "    <tr>\n",
       "      <th>246</th>\n",
       "      <td>1.0</td>\n",
       "      <td>0.945196</td>\n",
       "      <td>1</td>\n",
       "    </tr>\n",
       "    <tr>\n",
       "      <th>950</th>\n",
       "      <td>1.0</td>\n",
       "      <td>0.721024</td>\n",
       "      <td>1</td>\n",
       "    </tr>\n",
       "    <tr>\n",
       "      <th>979</th>\n",
       "      <td>0.0</td>\n",
       "      <td>0.351274</td>\n",
       "      <td>0</td>\n",
       "    </tr>\n",
       "    <tr>\n",
       "      <th>800</th>\n",
       "      <td>1.0</td>\n",
       "      <td>0.785659</td>\n",
       "      <td>1</td>\n",
       "    </tr>\n",
       "  </tbody>\n",
       "</table>\n",
       "<p>200 rows × 3 columns</p>\n",
       "</div>"
      ],
      "text/plain": [
       "     actual  Predicted_prob  Predicted\n",
       "159     1.0        0.994615          1\n",
       "276     1.0        0.937829          1\n",
       "697     1.0        0.963429          1\n",
       "288     1.0        0.809617          1\n",
       "98      1.0        0.731812          1\n",
       "..      ...             ...        ...\n",
       "198     1.0        0.777029          1\n",
       "246     1.0        0.945196          1\n",
       "950     1.0        0.721024          1\n",
       "979     0.0        0.351274          0\n",
       "800     1.0        0.785659          1\n",
       "\n",
       "[200 rows x 3 columns]"
      ]
     },
     "execution_count": 9,
     "metadata": {},
     "output_type": "execute_result"
    }
   ],
   "source": [
    "# validate with test data\n",
    "\n",
    "pred_df = pd.DataFrame({\"actual\": y_test,\n",
    "                        \"Predicted_prob\": logit_model.predict(X_test)\n",
    "                       })\n",
    "\n",
    "pred_df['Predicted'] = pred_df['Predicted_prob'].map(lambda x: 1 if x>0.5 else 0)\n",
    "pred_df"
   ]
  },
  {
   "cell_type": "code",
   "execution_count": 10,
   "id": "ca254c10",
   "metadata": {
    "execution": {
     "iopub.execute_input": "2022-05-22T09:27:59.751694Z",
     "iopub.status.busy": "2022-05-22T09:27:59.751419Z",
     "iopub.status.idle": "2022-05-22T09:27:59.757012Z",
     "shell.execute_reply": "2022-05-22T09:27:59.756219Z"
    },
    "papermill": {
     "duration": 0.075768,
     "end_time": "2022-05-22T09:27:59.758795",
     "exception": false,
     "start_time": "2022-05-22T09:27:59.683027",
     "status": "completed"
    },
    "tags": []
   },
   "outputs": [],
   "source": [
    "# confusion matrix\n",
    "def confusion_matri(actual, predicted):\n",
    "    cm = confusion_matrix(actual, predicted)\n",
    "    tp, fp, fn, tn = cm.ravel()\n",
    "    #plot confusion matrix\n",
    "    plt.figure(figsize=(6,6))\n",
    "    sns.heatmap(cm, annot=True, fmt='.2f', \n",
    "                xticklabels =['Bad credit','Good credit'],\n",
    "                yticklabels =['Bad credit','Good credit'])\n",
    "    plt.ylabel('True Label')\n",
    "    plt.xlabel('Predicted lable')\n",
    "    plt.title(\"Confusion Matrix\")\n",
    "    plt.show()\n",
    "    return tn,fp,fn,tp"
   ]
  },
  {
   "cell_type": "code",
   "execution_count": 11,
   "id": "0d00734d",
   "metadata": {
    "execution": {
     "iopub.execute_input": "2022-05-22T09:27:59.897761Z",
     "iopub.status.busy": "2022-05-22T09:27:59.897485Z",
     "iopub.status.idle": "2022-05-22T09:28:00.170834Z",
     "shell.execute_reply": "2022-05-22T09:28:00.169954Z"
    },
    "papermill": {
     "duration": 0.346792,
     "end_time": "2022-05-22T09:28:00.172611",
     "exception": false,
     "start_time": "2022-05-22T09:27:59.825819",
     "status": "completed"
    },
    "tags": []
   },
   "outputs": [
    {
     "data": {
      "image/png": "[encoded data removed]",
      "text/plain": [
       "<Figure size 432x432 with 2 Axes>"
      ]
     },
     "metadata": {
      "needs_background": "light"
     },
     "output_type": "display_data"
    },
    {
     "data": {
      "text/plain": [
       "(119, 27, 21, 33)"
      ]
     },
     "execution_count": 11,
     "metadata": {},
     "output_type": "execute_result"
    }
   ],
   "source": [
    "# confusion matrix of logit model\n",
    "confusion_matri(pred_df['actual'], pred_df['Predicted'])"
   ]
  },
  {
   "cell_type": "markdown",
   "id": "28a2be8d",
   "metadata": {
    "papermill": {
     "duration": 0.071072,
     "end_time": "2022-05-22T09:28:00.316646",
     "exception": false,
     "start_time": "2022-05-22T09:28:00.245574",
     "status": "completed"
    },
    "tags": []
   },
   "source": [
    "- here 1 = good and 0 = bad, TP = bad credit correctky classifed as bad"
   ]
  },
  {
   "cell_type": "code",
   "execution_count": 12,
   "id": "156c0fff",
   "metadata": {
    "execution": {
     "iopub.execute_input": "2022-05-22T09:28:00.461205Z",
     "iopub.status.busy": "2022-05-22T09:28:00.460921Z",
     "iopub.status.idle": "2022-05-22T09:28:00.476580Z",
     "shell.execute_reply": "2022-05-22T09:28:00.475232Z"
    },
    "papermill": {
     "duration": 0.091192,
     "end_time": "2022-05-22T09:28:00.478927",
     "exception": false,
     "start_time": "2022-05-22T09:28:00.387735",
     "status": "completed"
    },
    "tags": []
   },
   "outputs": [
    {
     "name": "stdout",
     "output_type": "stream",
     "text": [
      "              precision    recall  f1-score   support\n",
      "\n",
      "         0.0       0.61      0.55      0.58        60\n",
      "         1.0       0.82      0.85      0.83       140\n",
      "\n",
      "    accuracy                           0.76       200\n",
      "   macro avg       0.71      0.70      0.71       200\n",
      "weighted avg       0.75      0.76      0.76       200\n",
      "\n",
      "#############################################################\n",
      "Accuracy score:  0.76\n",
      "Precision score:  0.815068493150685\n"
     ]
    }
   ],
   "source": [
    "report = classification_report(pred_df['actual'], pred_df['Predicted'])\n",
    "print(report)\n",
    "print(\"#############################################################\")\n",
    "print(\"Accuracy score: \", accuracy_score(pred_df['actual'], pred_df['Predicted']))\n",
    "print(\"Precision score: \", precision_score(pred_df['actual'], pred_df['Predicted']))"
   ]
  },
  {
   "cell_type": "markdown",
   "id": "a08ffff5",
   "metadata": {
    "papermill": {
     "duration": 0.070395,
     "end_time": "2022-05-22T09:28:00.622826",
     "exception": false,
     "start_time": "2022-05-22T09:28:00.552431",
     "status": "completed"
    },
    "tags": []
   },
   "source": [
    "- accuracy score is nearly 76% while precision is certainly low compared to accuracy.\n",
    "- here classes are unbalanced and we are taking decision boundry as a 0.5 which is not resulting in right metrix.\n",
    "- our cut-off probability shoud be changed."
   ]
  },
  {
   "cell_type": "code",
   "execution_count": 13,
   "id": "cc5f52e8",
   "metadata": {
    "execution": {
     "iopub.execute_input": "2022-05-22T09:28:00.769086Z",
     "iopub.status.busy": "2022-05-22T09:28:00.768788Z",
     "iopub.status.idle": "2022-05-22T09:28:01.052269Z",
     "shell.execute_reply": "2022-05-22T09:28:01.051183Z"
    },
    "papermill": {
     "duration": 0.359383,
     "end_time": "2022-05-22T09:28:01.054716",
     "exception": false,
     "start_time": "2022-05-22T09:28:00.695333",
     "status": "completed"
    },
    "tags": []
   },
   "outputs": [
    {
     "data": {
      "image/png": "[encoded data removed]",
      "text/plain": [
       "<Figure size 432x432 with 1 Axes>"
      ]
     },
     "metadata": {
      "needs_background": "light"
     },
     "output_type": "display_data"
    }
   ],
   "source": [
    "# let's plot actual value of class and predicted probability \n",
    "plt.figure(figsize=(6,6))\n",
    "sns.distplot(pred_df[pred_df['actual']==0]['Predicted_prob'], kde=False,\n",
    "            label='Bad Credit', color='r')\n",
    "sns.distplot(pred_df[pred_df['actual']==1]['Predicted_prob'], kde=False,\n",
    "            label='Good Credit')\n",
    "\n",
    "plt.title('Distribution of actual bad and credit with its predicted probability')\n",
    "plt.grid(visible=True, color='wheat', linestyle='--')\n",
    "plt.legend()\n",
    "plt.show()"
   ]
  },
  {
   "cell_type": "markdown",
   "id": "71977b2d",
   "metadata": {
    "papermill": {
     "duration": 0.072343,
     "end_time": "2022-05-22T09:28:01.200627",
     "exception": false,
     "start_time": "2022-05-22T09:28:01.128284",
     "status": "completed"
    },
    "tags": []
   },
   "source": [
    "- here you can see that overlap is much higher than it should have been and due unbalanced actuall class distribution our 0.5 cut-off prob is not good."
   ]
  },
  {
   "cell_type": "code",
   "execution_count": 14,
   "id": "e9ba76aa",
   "metadata": {
    "execution": {
     "iopub.execute_input": "2022-05-22T09:28:01.348315Z",
     "iopub.status.busy": "2022-05-22T09:28:01.347998Z",
     "iopub.status.idle": "2022-05-22T09:28:01.355742Z",
     "shell.execute_reply": "2022-05-22T09:28:01.354701Z"
    },
    "papermill": {
     "duration": 0.084626,
     "end_time": "2022-05-22T09:28:01.357796",
     "exception": false,
     "start_time": "2022-05-22T09:28:01.273170",
     "status": "completed"
    },
    "tags": []
   },
   "outputs": [
    {
     "data": {
      "image/png": "[encoded data removed]",
      "text/plain": [
       "<Figure size 576x432 with 1 Axes>"
      ]
     },
     "metadata": {
      "needs_background": "light"
     },
     "output_type": "display_data"
    }
   ],
   "source": [
    "# plotting roc-auc curve\n",
    "def draw_roc(actual, proba):\n",
    "    fpr, tpr, thresholds = roc_curve(actual, proba,drop_intermediate=False)\n",
    "    auc_score = roc_auc_score(actual, proba)\n",
    "    # plot the curve\n",
    "    plt.figure(figsize=(8,6))\n",
    "    plt.plot(fpr, tpr, label=\"ROC curve(area={})\".format(round(auc_score,2)))\n",
    "    plt.plot([0,1],[0,1], 'k--')\n",
    "    plt.xlim([0.0,1.0])\n",
    "    plt.ylim([0.0,1.05])\n",
    "    plt.xlabel(\"False Positive Rate\")\n",
    "    plt.ylabel(\"True Positive Rate\")\n",
    "    plt.grid(visible=True, color='wheat', linestyle='--')\n",
    "    plt.legend(loc=\"lower right\")\n",
    "    plt.title(\"ROC-AUC Curve\")\n",
    "    plt.show()\n",
    "    return fpr, tpr, thresholds\n",
    "\n",
    "# roc-auc curve of logit model\n",
    "fpr, tpr, thresholds = draw_roc(pred_df['actual'],pred_df['Predicted_prob'])"
   ]
  },
  {
   "cell_type": "code",
   "execution_count": 15,
   "id": "81c27b8a",
   "metadata": {
    "execution": {
     "iopub.execute_input": "2022-05-22T09:28:01.892950Z",
     "iopub.status.busy": "2022-05-22T09:28:01.892677Z",
     "iopub.status.idle": "2022-05-22T09:28:01.899245Z",
     "shell.execute_reply": "2022-05-22T09:28:01.898308Z"
    },
    "papermill": {
     "duration": 0.086805,
     "end_time": "2022-05-22T09:28:01.901558",
     "exception": false,
     "start_time": "2022-05-22T09:28:01.814753",
     "status": "completed"
    },
    "tags": []
   },
   "outputs": [
    {
     "name": "stdout",
     "output_type": "stream",
     "text": [
      "AUC score of the model is:  0.78\n"
     ]
    }
   ],
   "source": [
    "auc_score = round(roc_auc_score(pred_df['actual'],pred_df['Predicted_prob']),2)\n",
    "print(\"AUC score of the model is: \", auc_score)"
   ]
  },
  {
   "cell_type": "code",
   "execution_count": 16,
   "id": "38d55e6e",
   "metadata": {
    "execution": {
     "iopub.execute_input": "2022-05-22T09:28:02.057300Z",
     "iopub.status.busy": "2022-05-22T09:28:02.056990Z",
     "iopub.status.idle": "2022-05-22T09:28:02.070053Z",
     "shell.execute_reply": "2022-05-22T09:28:02.069399Z"
    },
    "papermill": {
     "duration": 0.092546,
     "end_time": "2022-05-22T09:28:02.071714",
     "exception": false,
     "start_time": "2022-05-22T09:28:01.979168",
     "status": "completed"
    },
    "tags": []
   },
   "outputs": [
    {
     "data": {
      "text/html": [
       "<div>\n",
       "<style scoped>\n",
       "    .dataframe tbody tr th:only-of-type {\n",
       "        vertical-align: middle;\n",
       "    }\n",
       "\n",
       "    .dataframe tbody tr th {\n",
       "        vertical-align: top;\n",
       "    }\n",
       "\n",
       "    .dataframe thead th {\n",
       "        text-align: right;\n",
       "    }\n",
       "</style>\n",
       "<table border=\"1\" class=\"dataframe\">\n",
       "  <thead>\n",
       "    <tr style=\"text-align: right;\">\n",
       "      <th></th>\n",
       "      <th>tpr</th>\n",
       "      <th>fpr</th>\n",
       "      <th>thresholds</th>\n",
       "      <th>Diff</th>\n",
       "    </tr>\n",
       "  </thead>\n",
       "  <tbody>\n",
       "    <tr>\n",
       "      <th>122</th>\n",
       "      <td>0.742857</td>\n",
       "      <td>0.300000</td>\n",
       "      <td>0.676872</td>\n",
       "      <td>0.442857</td>\n",
       "    </tr>\n",
       "    <tr>\n",
       "      <th>121</th>\n",
       "      <td>0.735714</td>\n",
       "      <td>0.300000</td>\n",
       "      <td>0.680852</td>\n",
       "      <td>0.435714</td>\n",
       "    </tr>\n",
       "    <tr>\n",
       "      <th>124</th>\n",
       "      <td>0.750000</td>\n",
       "      <td>0.316667</td>\n",
       "      <td>0.663783</td>\n",
       "      <td>0.433333</td>\n",
       "    </tr>\n",
       "    <tr>\n",
       "      <th>157</th>\n",
       "      <td>0.914286</td>\n",
       "      <td>0.483333</td>\n",
       "      <td>0.443093</td>\n",
       "      <td>0.430952</td>\n",
       "    </tr>\n",
       "    <tr>\n",
       "      <th>120</th>\n",
       "      <td>0.728571</td>\n",
       "      <td>0.300000</td>\n",
       "      <td>0.684171</td>\n",
       "      <td>0.428571</td>\n",
       "    </tr>\n",
       "  </tbody>\n",
       "</table>\n",
       "</div>"
      ],
      "text/plain": [
       "          tpr       fpr  thresholds      Diff\n",
       "122  0.742857  0.300000    0.676872  0.442857\n",
       "121  0.735714  0.300000    0.680852  0.435714\n",
       "124  0.750000  0.316667    0.663783  0.433333\n",
       "157  0.914286  0.483333    0.443093  0.430952\n",
       "120  0.728571  0.300000    0.684171  0.428571"
      ]
     },
     "execution_count": 16,
     "metadata": {},
     "output_type": "execute_result"
    }
   ],
   "source": [
    "# Youden's index based approch to find cut-off probability \n",
    "tpr_fpr = pd.DataFrame({'tpr': tpr,\n",
    "                       'fpr': fpr,\n",
    "                       'thresholds': thresholds}\n",
    "                      )\n",
    "\n",
    "tpr_fpr['Diff'] = tpr_fpr.tpr - tpr_fpr.fpr\n",
    "tpr_fpr.sort_values(by='Diff', ascending=False).head()"
   ]
  },
  {
   "cell_type": "markdown",
   "id": "15f9ffc1",
   "metadata": {},
   "source": [
    "[Add an Explaination](https://medium.com/analytics-vidhya/roc-curve-classification-metrics-why-metrics-cant-replace-your-common-sense-e82d71c12eb3#:~:text=The%20main%20aim%20of%20the,and%20specificity%20can%20be%20maximum.)  "
   ]
  },
  {
   "cell_type": "markdown",
   "id": "75c0e74b",
   "metadata": {
    "papermill": {
     "duration": 0.073052,
     "end_time": "2022-05-22T09:28:02.219555",
     "exception": false,
     "start_time": "2022-05-22T09:28:02.146503",
     "status": "completed"
    },
    "tags": []
   },
   "source": [
    "- As per Youden's index maximum difference of tpr and fpr has the actual cutoff probability which **0.37** in this case\n",
    "- youden's index formula = Max(p) = (sensitivity(p) + specifity(p) - 1)\n",
    "- Which is nothing but the MAX(TPR-FPR)"
   ]
  },
  {
   "cell_type": "markdown",
   "id": "756dff4a",
   "metadata": {},
   "source": [
    "Youden's Index, also known as Youden's J statistic, is a statistical measure used to evaluate the effectiveness of a diagnostic test. It is particularly useful in assessing the performance of tests that classify results into two categories, such as positive and negative for a particular condition.\n",
    "\n",
    "Youden's Index is defined as:\n",
    "\n",
    "𝐽 = Sensitivity + Specificity − 1\n",
    "\n",
    "\n",
    "where:\n",
    "\n",
    "- Sensitivity (also known as the true positive rate) is the proportion of actual positives that are correctly identified by the test.\n",
    "- Specificity (also known as the true negative rate) is the proportion of actual negatives that are correctly identified by the test. \n",
    "\n",
    "The value of Youden's Index ranges from 0 to 1:\n",
    "\n",
    "- A value of 0 indicates a test with no diagnostic ability (i.e., it is no better than random chance).\n",
    "- A value of 1 indicates a perfect test with no false positives or false negatives."
   ]
  },
  {
   "cell_type": "code",
   "execution_count": 17,
   "id": "6966aed3",
   "metadata": {
    "execution": {
     "iopub.execute_input": "2022-05-22T09:28:02.369817Z",
     "iopub.status.busy": "2022-05-22T09:28:02.369515Z",
     "iopub.status.idle": "2022-05-22T09:28:02.634802Z",
     "shell.execute_reply": "2022-05-22T09:28:02.634144Z"
    },
    "papermill": {
     "duration": 0.342677,
     "end_time": "2022-05-22T09:28:02.636661",
     "exception": false,
     "start_time": "2022-05-22T09:28:02.293984",
     "status": "completed"
    },
    "tags": []
   },
   "outputs": [
    {
     "data": {
      "image/png": "[encoded data removed]",
      "text/plain": [
       "<Figure size 432x432 with 2 Axes>"
      ]
     },
     "metadata": {
      "needs_background": "light"
     },
     "output_type": "display_data"
    },
    {
     "data": {
      "text/plain": [
       "(133, 33, 7, 27)"
      ]
     },
     "execution_count": 17,
     "metadata": {},
     "output_type": "execute_result"
    }
   ],
   "source": [
    "pred_df['Predicted_new'] = pred_df['Predicted_prob'].map(lambda x: 1 if x>0.37 else 0)\n",
    "\n",
    "# new confution matrix\n",
    "confusion_matri(pred_df['actual'], pred_df['Predicted_new'])"
   ]
  },
  {
   "cell_type": "code",
   "execution_count": 18,
   "id": "0abaa780",
   "metadata": {
    "execution": {
     "iopub.execute_input": "2022-05-22T09:28:02.791552Z",
     "iopub.status.busy": "2022-05-22T09:28:02.791041Z",
     "iopub.status.idle": "2022-05-22T09:28:02.802564Z",
     "shell.execute_reply": "2022-05-22T09:28:02.801956Z"
    },
    "papermill": {
     "duration": 0.091524,
     "end_time": "2022-05-22T09:28:02.804534",
     "exception": false,
     "start_time": "2022-05-22T09:28:02.713010",
     "status": "completed"
    },
    "tags": []
   },
   "outputs": [
    {
     "name": "stdout",
     "output_type": "stream",
     "text": [
      "              precision    recall  f1-score   support\n",
      "\n",
      "         0.0       0.79      0.45      0.57        60\n",
      "         1.0       0.80      0.95      0.87       140\n",
      "\n",
      "    accuracy                           0.80       200\n",
      "   macro avg       0.80      0.70      0.72       200\n",
      "weighted avg       0.80      0.80      0.78       200\n",
      "\n",
      "#######################################################################\n",
      "Accuracy score:  0.8\n",
      "Precision score:  0.8012048192771084\n"
     ]
    }
   ],
   "source": [
    "new_report = classification_report(pred_df['actual'], pred_df['Predicted_new'])\n",
    "print(new_report)\n",
    "\n",
    "print(\"#######################################################################\")\n",
    "\n",
    "print(\"Accuracy score: \", accuracy_score(pred_df['actual'], pred_df['Predicted_new']))\n",
    "print(\"Precision score: \", precision_score(pred_df['actual'], pred_df['Predicted_new']))"
   ]
  },
  {
   "cell_type": "markdown",
   "id": "145886f4",
   "metadata": {
    "papermill": {
     "duration": 0.07495,
     "end_time": "2022-05-22T09:28:02.956264",
     "exception": false,
     "start_time": "2022-05-22T09:28:02.881314",
     "status": "completed"
    },
    "tags": []
   },
   "source": [
    "- Well our model has still performace issues due to unbalanced classes and it still needs some recification.\n",
    "- We will do oversampling of underbalanced class and build other models to find optimal accuracy of the model."
   ]
  },
  {
   "cell_type": "markdown",
   "id": "b17300a5",
   "metadata": {
    "papermill": {
     "duration": 0.074874,
     "end_time": "2022-05-22T09:28:03.153957",
     "exception": false,
     "start_time": "2022-05-22T09:28:03.079083",
     "status": "completed"
    },
    "tags": []
   },
   "source": [
    "# RF, SVM, XGB, k-NN, DT, GBC MODELS "
   ]
  },
  {
   "cell_type": "markdown",
   "id": "4d9cf633",
   "metadata": {},
   "source": [
    "- [Add an Explaination](https://medium.com/metaor-artificial-intelligence/solving-the-class-imbalance-problem-58cb926b5a0f)\n",
    "- [Add an Explaination](https://medium.com/@okanyenigun/handling-class-imbalance-in-machine-learning-cb1473e825ce)"
   ]
  },
  {
   "cell_type": "code",
   "execution_count": 19,
   "id": "c8126a12",
   "metadata": {
    "execution": {
     "iopub.execute_input": "2022-05-22T09:28:03.305862Z",
     "iopub.status.busy": "2022-05-22T09:28:03.305317Z",
     "iopub.status.idle": "2022-05-22T09:28:03.335910Z",
     "shell.execute_reply": "2022-05-22T09:28:03.335032Z"
    },
    "papermill": {
     "duration": 0.110014,
     "end_time": "2022-05-22T09:28:03.339209",
     "exception": false,
     "start_time": "2022-05-22T09:28:03.229195",
     "status": "completed"
    },
    "tags": []
   },
   "outputs": [
    {
     "name": "stdout",
     "output_type": "stream",
     "text": [
      "New balanced classes\n",
      "CPU times: user 287 ms, sys: 7.28 ms, total: 295 ms\n",
      "Wall time: 210 ms\n"
     ]
    },
    {
     "data": {
      "text/plain": [
       "good_bad\n",
       "1.0    700\n",
       "0.0    700\n",
       "Name: count, dtype: int64"
      ]
     },
     "execution_count": 19,
     "metadata": {},
     "output_type": "execute_result"
    }
   ],
   "source": [
    "%%time\n",
    "# over sample the data\n",
    "X_n = df_normalized2.drop('good_bad', axis=1)\n",
    "y_n = df_normalized2['good_bad']\n",
    "\n",
    "over_sampling = SMOTE(sampling_strategy='minority', random_state=42)\n",
    "X_n, y_n = over_sampling.fit_resample(X_n,y_n)\n",
    "print(\"New balanced classes\")\n",
    "y_n.value_counts()"
   ]
  },
  {
   "cell_type": "code",
   "execution_count": 20,
   "id": "319e2888",
   "metadata": {
    "execution": {
     "iopub.execute_input": "2022-05-22T09:28:03.542714Z",
     "iopub.status.busy": "2022-05-22T09:28:03.542299Z",
     "iopub.status.idle": "2022-05-22T09:28:03.557733Z",
     "shell.execute_reply": "2022-05-22T09:28:03.557069Z"
    },
    "papermill": {
     "duration": 0.097573,
     "end_time": "2022-05-22T09:28:03.561521",
     "exception": false,
     "start_time": "2022-05-22T09:28:03.463948",
     "status": "completed"
    },
    "tags": []
   },
   "outputs": [
    {
     "name": "stdout",
     "output_type": "stream",
     "text": [
      "CPU times: user 27.9 ms, sys: 1.79 ms, total: 29.7 ms\n",
      "Wall time: 33.7 ms\n"
     ]
    },
    {
     "data": {
      "text/plain": [
       "((350, 61), (1050, 61), (1050,), (350,))"
      ]
     },
     "execution_count": 20,
     "metadata": {},
     "output_type": "execute_result"
    }
   ],
   "source": [
    "%%time\n",
    "# standardize 4 contious cols\n",
    "# split the train and test\n",
    "X_trn, X_tst, y_trn, y_tst = train_test_split(X_n, y_n, \n",
    "                                              train_size=0.75, \n",
    "                                              random_state=42)\n",
    "# Min Max scaler\n",
    "scaler = MinMaxScaler()\n",
    "scaler.fit(X_trn)\n",
    "X_trn= scaler.transform(X_trn)\n",
    "X_tst= scaler.transform(X_tst)\n",
    "X_tst.shape, X_trn.shape, y_trn.shape, y_tst.shape"
   ]
  },
  {
   "cell_type": "code",
   "execution_count": 21,
   "id": "79dec110",
   "metadata": {
    "execution": {
     "iopub.execute_input": "2022-05-22T09:28:03.719572Z",
     "iopub.status.busy": "2022-05-22T09:28:03.719075Z",
     "iopub.status.idle": "2022-05-22T09:28:05.915696Z",
     "shell.execute_reply": "2022-05-22T09:28:05.914641Z"
    },
    "papermill": {
     "duration": 2.27691,
     "end_time": "2022-05-22T09:28:05.917731",
     "exception": false,
     "start_time": "2022-05-22T09:28:03.640821",
     "status": "completed"
    },
    "tags": []
   },
   "outputs": [
    {
     "name": "stdout",
     "output_type": "stream",
     "text": [
      "Metrics of Model RFC: \n",
      "\n",
      "Score of model RFC is 0.83: \n",
      "\n",
      "Classification report of model RFC is: \n",
      "              precision    recall  f1-score   support\n",
      "\n",
      "         0.0       0.80      0.86      0.83       167\n",
      "         1.0       0.86      0.81      0.83       183\n",
      "\n",
      "    accuracy                           0.83       350\n",
      "   macro avg       0.83      0.83      0.83       350\n",
      "weighted avg       0.83      0.83      0.83       350\n",
      "\n",
      "###################################################################\n",
      "Metrics of Model DT: \n",
      "\n",
      "Score of model DT is 0.77: \n",
      "\n",
      "Classification report of model DT is: \n",
      "              precision    recall  f1-score   support\n",
      "\n",
      "         0.0       0.73      0.81      0.77       167\n",
      "         1.0       0.81      0.73      0.77       183\n",
      "\n",
      "    accuracy                           0.77       350\n",
      "   macro avg       0.77      0.77      0.77       350\n",
      "weighted avg       0.77      0.77      0.77       350\n",
      "\n",
      "###################################################################\n",
      "Metrics of Model knn: \n",
      "\n",
      "Score of model knn is 0.69: \n",
      "\n",
      "Classification report of model knn is: \n",
      "              precision    recall  f1-score   support\n",
      "\n",
      "         0.0       0.61      0.94      0.74       167\n",
      "         1.0       0.89      0.46      0.61       183\n",
      "\n",
      "    accuracy                           0.69       350\n",
      "   macro avg       0.75      0.70      0.67       350\n",
      "weighted avg       0.76      0.69      0.67       350\n",
      "\n",
      "###################################################################\n",
      "Metrics of Model GNB: \n",
      "\n",
      "Score of model GNB is 0.71: \n",
      "\n",
      "Classification report of model GNB is: \n",
      "              precision    recall  f1-score   support\n",
      "\n",
      "         0.0       0.64      0.86      0.74       167\n",
      "         1.0       0.81      0.57      0.67       183\n",
      "\n",
      "    accuracy                           0.71       350\n",
      "   macro avg       0.73      0.71      0.70       350\n",
      "weighted avg       0.73      0.71      0.70       350\n",
      "\n",
      "###################################################################\n",
      "Metrics of Model SVC: \n",
      "\n",
      "Score of model SVC is 0.84: \n",
      "\n",
      "Classification report of model SVC is: \n",
      "              precision    recall  f1-score   support\n",
      "\n",
      "         0.0       0.80      0.88      0.84       167\n",
      "         1.0       0.88      0.80      0.84       183\n",
      "\n",
      "    accuracy                           0.84       350\n",
      "   macro avg       0.84      0.84      0.84       350\n",
      "weighted avg       0.84      0.84      0.84       350\n",
      "\n",
      "###################################################################\n",
      "Metrics of Model GBC: \n",
      "\n",
      "Score of model GBC is 0.8: \n",
      "\n",
      "Classification report of model GBC is: \n",
      "              precision    recall  f1-score   support\n",
      "\n",
      "         0.0       0.77      0.82      0.79       167\n",
      "         1.0       0.83      0.78      0.80       183\n",
      "\n",
      "    accuracy                           0.80       350\n",
      "   macro avg       0.80      0.80      0.80       350\n",
      "weighted avg       0.80      0.80      0.80       350\n",
      "\n",
      "###################################################################\n",
      "Metrics of Model XGB: \n",
      "\n",
      "Score of model XGB is 0.84: \n",
      "\n",
      "Classification report of model XGB is: \n",
      "              precision    recall  f1-score   support\n",
      "\n",
      "         0.0       0.82      0.86      0.84       167\n",
      "         1.0       0.86      0.83      0.85       183\n",
      "\n",
      "    accuracy                           0.84       350\n",
      "   macro avg       0.84      0.84      0.84       350\n",
      "weighted avg       0.84      0.84      0.84       350\n",
      "\n",
      "###################################################################\n",
      "CPU times: user 20.9 s, sys: 1.16 ms, total: 20.9 s\n",
      "Wall time: 6.69 s\n"
     ]
    }
   ],
   "source": [
    "%%time\n",
    "models_dict = {'RFC': RandomForestClassifier(n_estimators=500, max_depth=15, random_state=42),\n",
    "               'DT': DecisionTreeClassifier(criterion='entropy', random_state=42,max_depth=20),\n",
    "               'knn': KNeighborsClassifier(n_neighbors=4),\n",
    "               'GNB': GaussianNB(),\n",
    "               'SVC': SVC(C=2.0),\n",
    "               'GBC': GradientBoostingClassifier(max_depth=2, random_state=42),\n",
    "               'XGB': XGBClassifier(n_estimators=150, max_leaves=4)}\n",
    "\n",
    "# fitting models and score\n",
    "for k,model in models_dict.items():\n",
    "    model.fit(X_trn,y_trn)\n",
    "    score = model.score(X_tst,y_tst)\n",
    "    predict_y = model.predict(X_tst)\n",
    "    classif_report = classification_report(y_tst,predict_y)\n",
    "    print(\"Metrics of Model {}: \\n\".format(k))\n",
    "    print(\"Score of model {} is {}: \\n\".format(k,round(score,2)))\n",
    "    print(\"Classification report of model {} is: \\n{}\".format(k,classif_report))\n",
    "    print(\"###################################################################\")"
   ]
  },
  {
   "cell_type": "markdown",
   "id": "a2895134",
   "metadata": {
    "papermill": {
     "duration": 0.080634,
     "end_time": "2022-05-22T09:28:06.075781",
     "exception": false,
     "start_time": "2022-05-22T09:28:05.995147",
     "status": "completed"
    },
    "tags": []
   },
   "source": [
    "> from above results we can **Random forest classsfier** is the clear winner followed by GBC.\n",
    "\n",
    "> RF model has the highest accuracy of **84%**"
   ]
  },
  {
   "cell_type": "code",
   "execution_count": 22,
   "id": "4775f6d0",
   "metadata": {
    "execution": {
     "iopub.execute_input": "2022-05-22T09:28:06.237120Z",
     "iopub.status.busy": "2022-05-22T09:28:06.236090Z",
     "iopub.status.idle": "2022-05-22T09:28:08.287581Z",
     "shell.execute_reply": "2022-05-22T09:28:08.286410Z"
    },
    "papermill": {
     "duration": 2.134937,
     "end_time": "2022-05-22T09:28:08.290739",
     "exception": false,
     "start_time": "2022-05-22T09:28:06.155802",
     "status": "completed"
    },
    "tags": []
   },
   "outputs": [
    {
     "data": {
      "image/png": "[encoded data removed]",
      "text/plain": [
       "<Figure size 432x432 with 2 Axes>"
      ]
     },
     "metadata": {
      "needs_background": "light"
     },
     "output_type": "display_data"
    },
    {
     "name": "stdout",
     "output_type": "stream",
     "text": [
      "For model RFC (148, 24, 35, 143)\n",
      "##########################################################\n"
     ]
    },
    {
     "data": {
      "image/png": "[encoded data removed]",
      "text/plain": [
       "<Figure size 432x432 with 2 Axes>"
      ]
     },
     "metadata": {
      "needs_background": "light"
     },
     "output_type": "display_data"
    },
    {
     "name": "stdout",
     "output_type": "stream",
     "text": [
      "For model DT (133, 31, 50, 136)\n",
      "##########################################################\n"
     ]
    },
    {
     "data": {
      "image/png": "[encoded data removed]",
      "text/plain": [
       "<Figure size 432x432 with 2 Axes>"
      ]
     },
     "metadata": {
      "needs_background": "light"
     },
     "output_type": "display_data"
    },
    {
     "name": "stdout",
     "output_type": "stream",
     "text": [
      "For model knn (84, 10, 99, 157)\n",
      "##########################################################\n"
     ]
    },
    {
     "data": {
      "image/png": "[encoded data removed]",
      "text/plain": [
       "<Figure size 432x432 with 2 Axes>"
      ]
     },
     "metadata": {
      "needs_background": "light"
     },
     "output_type": "display_data"
    },
    {
     "name": "stdout",
     "output_type": "stream",
     "text": [
      "For model GNB (104, 24, 79, 143)\n",
      "##########################################################\n"
     ]
    },
    {
     "data": {
      "image/png": "[encoded data removed]",
      "text/plain": [
       "<Figure size 432x432 with 2 Axes>"
      ]
     },
     "metadata": {
      "needs_background": "light"
     },
     "output_type": "display_data"
    },
    {
     "name": "stdout",
     "output_type": "stream",
     "text": [
      "For model SVC (146, 20, 37, 147)\n",
      "##########################################################\n"
     ]
    },
    {
     "data": {
      "image/png": "[encoded data removed]",
      "text/plain": [
       "<Figure size 432x432 with 2 Axes>"
      ]
     },
     "metadata": {
      "needs_background": "light"
     },
     "output_type": "display_data"
    },
    {
     "name": "stdout",
     "output_type": "stream",
     "text": [
      "For model GBC (142, 30, 41, 137)\n",
      "##########################################################\n"
     ]
    },
    {
     "data": {
      "image/png": "[encoded data removed]",
      "text/plain": [
       "<Figure size 432x432 with 2 Axes>"
      ]
     },
     "metadata": {
      "needs_background": "light"
     },
     "output_type": "display_data"
    },
    {
     "name": "stdout",
     "output_type": "stream",
     "text": [
      "For model XGB (152, 24, 31, 143)\n",
      "##########################################################\n"
     ]
    }
   ],
   "source": [
    "# confusion matrix of all six models\n",
    "for k,model in models_dict.items():\n",
    "    score = round(model.score(X_tst,y_tst),2)\n",
    "    predict_y = model.predict(X_tst)\n",
    "    cm = confusion_matri(y_tst,predict_y)\n",
    "    print(f\"For model {k}\", cm)\n",
    "    print(\"##########################################################\")"
   ]
  },
  {
   "cell_type": "code",
   "execution_count": 23,
   "id": "db0a6e9c",
   "metadata": {
    "execution": {
     "iopub.execute_input": "2022-05-22T09:28:08.480035Z",
     "iopub.status.busy": "2022-05-22T09:28:08.479281Z",
     "iopub.status.idle": "2022-05-22T09:28:09.003587Z",
     "shell.execute_reply": "2022-05-22T09:28:09.002652Z"
    },
    "papermill": {
     "duration": 0.617461,
     "end_time": "2022-05-22T09:28:09.005708",
     "exception": false,
     "start_time": "2022-05-22T09:28:08.388247",
     "status": "completed"
    },
    "tags": []
   },
   "outputs": [
    {
     "name": "stdout",
     "output_type": "stream",
     "text": [
      "Accuracy score of RFC:  0.83\n",
      "Accuracy score of DT:  0.77\n",
      "Accuracy score of knn:  0.69\n",
      "Accuracy score of GNB:  0.71\n",
      "Accuracy score of SVC:  0.84\n",
      "Accuracy score of GBC:  0.8\n",
      "Accuracy score of XGB:  0.84\n"
     ]
    }
   ],
   "source": [
    "# Accuracy of all the models\n",
    "for k,model in models_dict.items():\n",
    "    score = round(model.score(X_tst,y_tst),2)\n",
    "    predict_y = model.predict(X_tst)\n",
    "    print(f\"Accuracy score of {k}: \", round(accuracy_score(y_tst,predict_y),2))"
   ]
  }
 ],
 "metadata": {
  "kernelspec": {
   "display_name": "Python 3",
   "language": "python",
   "name": "python3"
  },
  "language_info": {
   "codemirror_mode": {
    "name": "ipython",
    "version": 3
   },
   "file_extension": ".py",
   "mimetype": "text/x-python",
   "name": "python",
   "nbconvert_exporter": "python",
   "pygments_lexer": "ipython3",
   "version": "3.10.12"
  },
  "papermill": {
   "default_parameters": {},
   "duration": 32.094903,
   "end_time": "2022-05-22T09:28:10.111977",
   "environment_variables": {},
   "exception": null,
   "input_path": "__notebook__.ipynb",
   "output_path": "__notebook__.ipynb",
   "parameters": {},
   "start_time": "2022-05-22T09:27:38.017074",
   "version": "2.3.4"
  }
 },
 "nbformat": 4,
 "nbformat_minor": 5
}
