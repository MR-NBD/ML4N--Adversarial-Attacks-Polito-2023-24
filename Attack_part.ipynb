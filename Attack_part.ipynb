{
 "cells": [
  {
   "cell_type": "markdown",
   "metadata": {},
   "source": [
    "# Noise\n",
    "---"
   ]
  },
  {
   "cell_type": "markdown",
   "metadata": {},
   "source": [
    "### Example of a function that generates noise based on a numerical distribution given as input"
   ]
  },
  {
   "cell_type": "code",
   "execution_count": 8,
   "metadata": {},
   "outputs": [
    {
     "name": "stdout",
     "output_type": "stream",
     "text": [
      "[0.99720882 0.68530062 0.93838928 0.60623254 0.42013797 0.81812804\n",
      " 0.49300195 0.96166632 0.42521716 0.36710597 0.83331392 0.2502504\n",
      " 0.32713284 0.73277016 0.41525158 0.87385638 0.09751032 0.45385017\n",
      " 0.15903264 0.64882106]\n",
      "[0.67539727 0.95843317 0.45453216 0.53984071 0.75468449 0.71286782\n",
      " 0.82795079 0.89536395 0.10956692 0.71381695 0.62346129 0.59327498\n",
      " 0.29029573 0.38790022 0.7188625  0.83243165 0.56342067 0.792359\n",
      " 0.38453003 0.41799687]\n"
     ]
    }
   ],
   "source": [
    "import numpy as np\n",
    "\n",
    "def generate_noise_forDistribution(attributes):\n",
    "    min_value = np.min(attributes)\n",
    "    max_value = np.max(attributes)\n",
    "    return  np.random.uniform(min_value, max_value, len(attributes))\n",
    "\n",
    "# Create a NumPy array with 20 elements\n",
    "attributes = np.random.rand(20)\n",
    "\n",
    "# Print the array\n",
    "print(attributes)\n",
    "\n",
    "\n",
    "\n",
    "noise = generate_noise_forDistribution(attributes)\n",
    "\n",
    "print(noise)\n"
   ]
  },
  {
   "cell_type": "markdown",
   "metadata": {},
   "source": [
    "### Example of a function that generates noise based on a categorical distribution given as input"
   ]
  },
  {
   "cell_type": "code",
   "execution_count": 9,
   "metadata": {},
   "outputs": [
    {
     "name": "stdout",
     "output_type": "stream",
     "text": [
      "Mapped vector based on unique attributes: ['A121' 'A122' 'A121' 'A123']\n",
      "Random noise vector: ['A121' 'A123' 'A122' 'A123']\n"
     ]
    }
   ],
   "source": [
    "attributes = np.array(['A121', 'A122', 'A121', 'A123'])\n",
    "\n",
    "\n",
    "def generate_noise_forCategorical(attributes):\n",
    "    unique_attributes = np.unique(attributes)\n",
    "    return np.random.choice(unique_attributes, len(attributes))\n",
    "\n",
    "\n",
    "random_noise = generate_noise_forCategorical(attributes)\n",
    "\n",
    "\n",
    "print(f\"Mapped vector based on unique attributes: {attributes}\")\n",
    "print(f\"Random noise vector: {random_noise}\")"
   ]
  },
  {
   "cell_type": "markdown",
   "metadata": {},
   "source": [
    "# Countermeasures and detection\n",
    "---"
   ]
  },
  {
   "cell_type": "markdown",
   "metadata": {},
   "source": [
    "### Example of detecting a change in an input numerical distribution\n",
    "- The detection takes place through the comparison of the median first quartile and third quartile previously observed in the original dataset taking into account a delta of 10% (which can be changed)"
   ]
  },
  {
   "cell_type": "code",
   "execution_count": 39,
   "metadata": {},
   "outputs": [
    {
     "name": "stdout",
     "output_type": "stream",
     "text": [
      "The vector distribution is within a 10% range.\n"
     ]
    }
   ],
   "source": [
    "def check_integrity_of_distribution(vector, median, first_quartile, third_quartile):\n",
    "    median_range = np.median(vector) \n",
    "    first_quartile_range = np.percentile(vector, 25) \n",
    "    third_quartile_range = np.percentile(vector, 75) \n",
    "    median = median * 0.1\n",
    "    first_quartile = first_quartile * 0.1\n",
    "    third_quartile = third_quartile * 0.1\n",
    "    \n",
    "    # Verifica se la distribuzione è all'interno dei range specificati\n",
    "    within_range = (\n",
    "        (median >= median - median_range) and (median <= median + median_range) and\n",
    "        (first_quartile >= first_quartile - first_quartile_range) and (first_quartile <= first_quartile + first_quartile_range) and\n",
    "        (third_quartile >= third_quartile - third_quartile_range) and (third_quartile <= third_quartile + third_quartile_range)\n",
    "    )\n",
    "\n",
    "    return within_range\n",
    "\n",
    "# Example\n",
    "my_vector = np.array([1, 2, 3, 4, 5, 6, 7, 8, 9, 10])\n",
    "noise_test = generate_noise_forDistribution(my_vector)\n",
    "my_median = np.median(my_vector)\n",
    "my_first_quartile = np.percentile(my_vector, 25)\n",
    "my_third_quartile = np.percentile(my_vector, 75)\n",
    "\n",
    "result = check_integrity_of_distribution(noise_test, my_median, my_first_quartile, my_third_quartile)\n",
    "\n",
    "\n",
    "if result:\n",
    "    print(\"The vector distribution is within a 10% range.\")\n",
    "else:\n",
    "    print(\"The vector distribution is not within a 10% range.\")\n"
   ]
  },
  {
   "cell_type": "markdown",
   "metadata": {},
   "source": [
    "### Example of detecting a change in an input categorical distribution\n",
    "- The detection occurs through the comparison between the count of each category observed in the original dataset taking into account a delta of 10% (which can be changed)"
   ]
  },
  {
   "cell_type": "code",
   "execution_count": 40,
   "metadata": {},
   "outputs": [
    {
     "name": "stdout",
     "output_type": "stream",
     "text": [
      "The count of each category is within a 10% range.\n"
     ]
    }
   ],
   "source": [
    "def check_category_counts_within_range(attributes, values_count):\n",
    "    unique_values, counts = np.unique(attributes, return_counts=True)\n",
    "    my_value_counts = dict(zip(unique_values, counts))\n",
    "\n",
    "    for key in set(my_value_counts.keys()) & set(values_count.keys()):\n",
    "        lower_bound = values_count[key] - (values_count[key] * 0.1)\n",
    "        upper_bound = values_count[key] + (values_count[key] * 0.1)\n",
    "\n",
    "        if not (lower_bound <= my_value_counts[key] <= upper_bound):\n",
    "            return False\n",
    "\n",
    "    return True\n",
    "\n",
    "\n",
    "# Example\n",
    "my_vector = np.array(['A', 'B', 'A', 'C', 'B', 'A', 'A', 'C', 'C', 'B'])\n",
    "unique_values, counts = np.unique(my_vector, return_counts=True)\n",
    "my_value_counts = dict(zip(unique_values, counts))\n",
    "result = check_category_counts_within_range(my_vector,my_value_counts)\n",
    "\n",
    "\n",
    "if result:\n",
    "    print(\"The count of each category is within a 10% range.\")\n",
    "else:\n",
    "    print(\"The count of each category is not within a 10% range.\")\n"
   ]
  }
 ],
 "metadata": {
  "kernelspec": {
   "display_name": "Python 3",
   "language": "python",
   "name": "python3"
  },
  "language_info": {
   "codemirror_mode": {
    "name": "ipython",
    "version": 3
   },
   "file_extension": ".py",
   "mimetype": "text/x-python",
   "name": "python",
   "nbconvert_exporter": "python",
   "pygments_lexer": "ipython3",
   "version": "3.10.12"
  }
 },
 "nbformat": 4,
 "nbformat_minor": 2
}
